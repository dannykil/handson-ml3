{
 "cells": [
  {
   "cell_type": "code",
   "execution_count": 47,
   "id": "f1b2c03c-7d5d-4bc9-8f3d-106e868575d3",
   "metadata": {},
   "outputs": [
    {
     "name": "stdout",
     "output_type": "stream",
     "text": [
      "--- 리스트 (List) ---\n",
      "초기 리스트: [1, 2, 3, 2, 4]\n",
      "수정 후 리스트 (첫 번째 요소 변경): [10, 2, 3, 2, 4]\n",
      "인덱스 2의 요소: 3\n",
      "중복 데이터 추가 후 리스트 (10 추가): [10, 2, 3, 2, 4]\n"
     ]
    }
   ],
   "source": [
    "# 1) 리스트\n",
    "\n",
    "print(\"--- 리스트 (List) ---\")\n",
    "my_list = [1, 2, 3, 2, 4]\n",
    "print(f\"초기 리스트: {my_list}\")\n",
    "\n",
    "# 1) 수정 가능 여부 테스트\n",
    "my_list[0] = 10\n",
    "print(f\"수정 후 리스트 (첫 번째 요소 변경): {my_list}\")\n",
    "\n",
    "# 2) 인덱스 접근 가능 여부 테스트\n",
    "print(f\"인덱스 2의 요소: {my_list[2]}\")\n",
    "\n",
    "# 3) 중복 데이터 허용 여부 테스트\n",
    "# my_list.append(10) # 맨 뒤에 추가\n",
    "# my_list.insert(3, 10) # 추가할 인덱스 지정\n",
    "# my_list.extend(3) # 반복 가능한 객체(iterable)의 요소를 분해해서 리스트에 확장\n",
    "# my_list.extend([3, 5]) \n",
    "# my_list.extend((3, 5))\n",
    "# my_list.extend({3, 5})\n",
    "print(f\"중복 데이터 추가 후 리스트 (10 추가): {my_list}\")"
   ]
  },
  {
   "cell_type": "code",
   "execution_count": 51,
   "id": "322146bc-4d6c-4c5b-a034-4027b4fab862",
   "metadata": {},
   "outputs": [
    {
     "name": "stdout",
     "output_type": "stream",
     "text": [
      "\n",
      "--- 튜플 (Tuple) ---\n",
      "초기 튜플: (1, 2, 3, 2, 4)\n",
      "수정 시도 시 에러 발생: 'tuple' object does not support item assignment\n",
      "인덱스 2의 요소: 3\n",
      "튜플은 중복 데이터 허용: (1, 2, 3, 2, 4)\n"
     ]
    }
   ],
   "source": [
    "# 2) 튜플\n",
    "# * 튜플은 생성 시점에 중복 허용 여부가 결정\n",
    "# * 변경을 원하는 경우 새로운 튜플을 생성해야함\n",
    "print(\"\\n--- 튜플 (Tuple) ---\")\n",
    "my_tuple = (1, 2, 3, 2, 4)\n",
    "print(f\"초기 튜플: {my_tuple}\")\n",
    "\n",
    "# 1) 수정 가능 여부 테스트 (에러 발생 예상)\n",
    "try:\n",
    "    my_tuple[0] = 10\n",
    "except TypeError as e:\n",
    "    print(f\"수정 시도 시 에러 발생: {e}\")\n",
    "\n",
    "# 2) 인덱스 접근 가능 여부 테스트\n",
    "print(f\"인덱스 2의 요소: {my_tuple[2]}\")\n",
    "\n",
    "# 3) 중복 데이터 허용 여부 테스트\n",
    "# 튜플은 생성 시점에 중복 허용 여부가 결정됩니다.\n",
    "# * 튜플은 불변이기 때문에 요소를 추가하는 메서드 자체가 없음\n",
    "print(f\"튜플은 중복 데이터 허용: {my_tuple}\")"
   ]
  },
  {
   "cell_type": "code",
   "execution_count": 75,
   "id": "90e760ef-7024-4c48-bd8c-50ecd84c5246",
   "metadata": {},
   "outputs": [
    {
     "name": "stdout",
     "output_type": "stream",
     "text": [
      "\n",
      "--- 세트 (Set) ---\n",
      "초기 세트 (중복 제거 후): {1, 2, 3, 4}\n",
      "요소 추가 후 세트 (5 추가): {1, 2, 3, 4, 5}\n",
      "요소 삭제 후 세트 (1 삭제): {2, 3, 4, 5}\n",
      "인덱스 접근 시도 시 에러 발생: 'set' object is not subscriptable\n"
     ]
    },
    {
     "ename": "TypeError",
     "evalue": "unhashable type: 'list'",
     "output_type": "error",
     "traceback": [
      "\u001b[0;31m---------------------------------------------------------------------------\u001b[0m",
      "\u001b[0;31mTypeError\u001b[0m                                 Traceback (most recent call last)",
      "Cell \u001b[0;32mIn[75], line 22\u001b[0m\n\u001b[1;32m     20\u001b[0m my_set\u001b[38;5;241m.\u001b[39madd(\u001b[38;5;241m3\u001b[39m) \u001b[38;5;66;03m# 이미 존재하는 요소\u001b[39;00m\n\u001b[1;32m     21\u001b[0m \u001b[38;5;66;03m# my_set.add('3') # String 타입 가능\u001b[39;00m\n\u001b[0;32m---> 22\u001b[0m \u001b[43mmy_set\u001b[49m\u001b[38;5;241;43m.\u001b[39;49m\u001b[43madd\u001b[49m\u001b[43m(\u001b[49m\u001b[43m[\u001b[49m\u001b[38;5;241;43m6\u001b[39;49m\u001b[43m,\u001b[49m\u001b[43m \u001b[49m\u001b[38;5;241;43m7\u001b[39;49m\u001b[43m]\u001b[49m\u001b[43m)\u001b[49m \u001b[38;5;66;03m# 리스트 타입 불가능\u001b[39;00m\n\u001b[1;32m     23\u001b[0m \u001b[38;5;66;03m# my_set.add((6, 7)) # *튜플 타입 가능\u001b[39;00m\n\u001b[1;32m     24\u001b[0m \u001b[38;5;66;03m# my_set.add({6, 7}) # 세트 타입 불가능\u001b[39;00m\n\u001b[1;32m     25\u001b[0m \u001b[38;5;66;03m# my_set.add({'id':6, 'code':7}) # 딕셔너리 타입 불가능\u001b[39;00m\n\u001b[1;32m     26\u001b[0m \u001b[38;5;28mprint\u001b[39m(\u001b[38;5;124mf\u001b[39m\u001b[38;5;124m\"\u001b[39m\u001b[38;5;124m중복 데이터 추가 시도 후 세트 (3 추가 시도): \u001b[39m\u001b[38;5;132;01m{\u001b[39;00mmy_set\u001b[38;5;132;01m}\u001b[39;00m\u001b[38;5;124m\"\u001b[39m) \u001b[38;5;66;03m# 변화 없음\u001b[39;00m\n",
      "\u001b[0;31mTypeError\u001b[0m: unhashable type: 'list'"
     ]
    }
   ],
   "source": [
    "# 3) 세트\n",
    "\n",
    "print(\"\\n--- 세트 (Set) ---\")\n",
    "my_set = {1, 2, 3, 2, 4}\n",
    "print(f\"초기 세트 (중복 제거 후): {my_set}\")\n",
    "\n",
    "# 1) 수정 가능 여부 테스트 (요소 추가/삭제)\n",
    "my_set.add(5)\n",
    "print(f\"요소 추가 후 세트 (5 추가): {my_set}\")\n",
    "my_set.remove(1)\n",
    "print(f\"요소 삭제 후 세트 (1 삭제): {my_set}\")\n",
    "\n",
    "# 2) 인덱스 접근 가능 여부 테스트 (에러 발생 예상)\n",
    "try:\n",
    "    print(my_set[0])\n",
    "except TypeError as e:\n",
    "    print(f\"인덱스 접근 시도 시 에러 발생: {e}\")\n",
    "\n",
    "# 3) 중복 데이터 허용 여부 테스트\n",
    "my_set.add(3) # 이미 존재하는 요소\n",
    "# my_set.add('3') # String 타입 가능\n",
    "# my_set.add([6, 7]) # 리스트 타입 불가능\n",
    "# my_set.add((6, 7)) # *튜플 타입 가능\n",
    "# my_set.add({6, 7}) # 세트 타입 불가능\n",
    "# my_set.add({'id':6, 'code':7}) # 딕셔너리 타입 불가능\n",
    "print(f\"중복 데이터 추가 시도 후 세트 (3 추가 시도): {my_set}\") # 변화 없음"
   ]
  },
  {
   "cell_type": "code",
   "execution_count": 7,
   "id": "9781e2a9-4ec5-4774-87ab-37d1026e7e61",
   "metadata": {},
   "outputs": [
    {
     "name": "stdout",
     "output_type": "stream",
     "text": [
      "\n",
      "--- 딕셔너리 (Dictionary) ---\n",
      "초기 딕셔너리: {'name': 'Alice', 'age': 30, 'city': 'New York', 'age_again': 30}\n",
      "값 수정 후 딕셔너리 (age 변경): {'name': 'Alice', 'age': 31, 'city': 'New York', 'age_again': 30}\n",
      "새 키-값 추가 후 딕셔너리 (job 추가): {'name': 'Alice', 'age': 31, 'city': 'New York', 'age_again': 30, 'job': 'Engineer'}\n",
      "키-값 삭제 후 딕셔너리 (city 삭제): {'name': 'Alice', 'age': 31, 'age_again': 30, 'job': 'Engineer'}\n",
      "키 'name'의 값: Alice\n",
      "키 'name' 값 변경 후 딕셔너리: {'name': 'Bob', 'age': 31, 'age_again': 30, 'job': 'Engineer'}\n",
      "딕셔너리는 키는 중복 불가, 값은 중복 허용: {'name': 'Bob', 'age': 31, 'age_again': 30, 'job': 'Engineer'}\n"
     ]
    }
   ],
   "source": [
    "# 4) 딕셔너리\n",
    "\n",
    "print(\"\\n--- 딕셔너리 (Dictionary) ---\")\n",
    "my_dict = {\"name\": \"Alice\", \"age\": 30, \"city\": \"New York\", \"age_again\": 30}\n",
    "print(f\"초기 딕셔너리: {my_dict}\")\n",
    "\n",
    "# 1) 수정 가능 여부 테스트 (값 변경, 키-값 쌍 추가/삭제)\n",
    "my_dict[\"age\"] = 31\n",
    "print(f\"값 수정 후 딕셔너리 (age 변경): {my_dict}\")\n",
    "my_dict[\"job\"] = \"Engineer\"\n",
    "print(f\"새 키-값 추가 후 딕셔너리 (job 추가): {my_dict}\")\n",
    "del my_dict[\"city\"]\n",
    "print(f\"키-값 삭제 후 딕셔너리 (city 삭제): {my_dict}\")\n",
    "\n",
    "# 2) 인덱스 접근 가능 여부 테스트 (키를 통해 값 접근)\n",
    "print(f\"키 'name'의 값: {my_dict['name']}\")\n",
    "\n",
    "# 3) 중복 데이터 허용 여부 테스트\n",
    "# 키는 중복 불가, 값은 중복 가능\n",
    "my_dict[\"name\"] = \"Bob\" # 기존 키의 값 변경\n",
    "# my_dict[\"name\"] = \"Charlie\" # 키 중복 시도 -> 마지막 값이 덮어씌워짐\n",
    "print(f\"키 'name' 값 변경 후 딕셔너리: {my_dict}\")\n",
    "print(f\"딕셔너리는 키는 중복 불가, 값은 중복 허용: {my_dict}\")"
   ]
  }
 ],
 "metadata": {
  "kernelspec": {
   "display_name": "Python [conda env:homl3]",
   "language": "python",
   "name": "conda-env-homl3-py"
  },
  "language_info": {
   "codemirror_mode": {
    "name": "ipython",
    "version": 3
   },
   "file_extension": ".py",
   "mimetype": "text/x-python",
   "name": "python",
   "nbconvert_exporter": "python",
   "pygments_lexer": "ipython3",
   "version": "3.10.17"
  }
 },
 "nbformat": 4,
 "nbformat_minor": 5
}
