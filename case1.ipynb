{
 "cells": [
  {
   "cell_type": "code",
   "execution_count": 357,
   "id": "1515fd5d-b4af-49ea-a0fe-a58248fe66e9",
   "metadata": {},
   "outputs": [],
   "source": [
    "import tensorflow as tf\n",
    "import numpy as np\n",
    "import matplotlib.pyplot as plt\n",
    "\n",
    "# 1. 데이터 준비 (Data Preparation)\n",
    "# 실제로는 더 복잡한 데이터셋을 사용합니다.\n",
    "# 여기서는 간단한 선형 관계를 가진 데이터를 만듭니다.\n",
    "X_train = np.array([0., 1., 2., 3., 4., 5., 6., 7., 8., 9.], dtype=float)\n",
    "y_train = np.array([1., 3., 5., 7., 9., 11., 13., 15., 17., 19.], dtype=float) # y = 2x + 1"
   ]
  },
  {
   "cell_type": "code",
   "execution_count": 359,
   "id": "c9b57ff3-758f-4028-9247-f710f462a739",
   "metadata": {},
   "outputs": [],
   "source": [
    "# 2. 모델 정의 (Model Definition)\n",
    "# Keras의 Sequential API를 사용하여 간단한 선형 모델을 만듭니다.\n",
    "# Dense 층은 각 입력과 출력이 모두 연결된 층을 의미합니다.\n",
    "# units=1은 출력 뉴런이 1개라는 의미입니다.\n",
    "# input_shape=[1]은 입력 데이터의 형태가 1차원 배열이라는 의미입니다.\n",
    "model = tf.keras.Sequential([\n",
    "    tf.keras.layers.Dense(units=1, input_shape=[1])\n",
    "])"
   ]
  },
  {
   "cell_type": "code",
   "execution_count": 361,
   "id": "d5f27a85-105d-44ed-a90a-438d9169df2e",
   "metadata": {},
   "outputs": [
    {
     "name": "stderr",
     "output_type": "stream",
     "text": [
      "WARNING:absl:At this time, the v2.11+ optimizer `tf.keras.optimizers.Adam` runs slowly on M1/M2 Macs, please use the legacy Keras optimizer instead, located at `tf.keras.optimizers.legacy.Adam`.\n"
     ]
    }
   ],
   "source": [
    "# 3. 컴파일 (Compile)\n",
    "# 컴파일 과정은 모델이 fit() 메서드를 통해 본격적인 학습을 시작하기 전에 필요한 모든 \"설계도\"와 \"도구\"를 준비하는 단계입니다.\n",
    "# optimizer: 경사 하강법 알고리즘을 지정합니다. 'adam'은 가장 일반적으로 사용되는 옵티마이저 중 하나입니다.\n",
    "# * Optimizer: 어떻게 모델을 \"개선\"해 나갈 것인가?\n",
    "# loss: 모델이 예측한 값과 실제 값 사이의 오차를 계산하는 함수입니다.\n",
    "# * 손실 함수 (Loss Function): 모델이 얼마나 \"잘못\" 예측했는지를 어떻게 측정할 것인가?\n",
    "# * 평가 지표 (Metrics): 학습 성과를 \"평가\"하는 기준(case1에서는 사용하지 않음)\n",
    "#       'mean_squared_error'는 회귀 문제에서 주로 사용됩니다.\n",
    "# model.compile(optimizer='adam', loss='mean_squared_error')\n",
    "\n",
    "# --- 이곳에서 learning rate를 튜닝합니다 ---\n",
    "# Adam 옵티마이저를 명시적으로 생성하고 learning_rate를 지정합니다.\n",
    "# 기본 learning_rate는 0.001입니다.\n",
    "# 예를 들어, 0.01로 높여보거나 0.0001로 낮춰볼 수 있습니다.\n",
    "my_learning_rate = 0.01 # <-- 이 값을 변경하여 튜닝합니다.\n",
    "\n",
    "optimizer = tf.keras.optimizers.Adam(learning_rate=my_learning_rate)\n",
    "\n",
    "model.compile(optimizer=optimizer,\n",
    "              loss='mean_squared_error')\n",
    "# --- 튜닝 위치 끝 ---"
   ]
  },
  {
   "cell_type": "code",
   "execution_count": 377,
   "id": "91a90f2f-d06e-4401-8f3f-83aeea9bb93e",
   "metadata": {},
   "outputs": [
    {
     "name": "stdout",
     "output_type": "stream",
     "text": [
      "모델 학습 시작...\n",
      "모델 학습 완료!\n"
     ]
    },
    {
     "data": {
      "image/png": "[encoded data removed]",
      "text/plain": [
       "<Figure size 640x480 with 1 Axes>"
      ]
     },
     "metadata": {},
     "output_type": "display_data"
    }
   ],
   "source": [
    "# 4. 학습 (Train/Fit)\n",
    "# epochs: 전체 데이터셋을 몇 번 반복하여 학습할 것인지 지정합니다.\n",
    "# verbose: 학습 과정의 출력 수준을 지정합니다. 0: 아무것도 출력 안함, 1: 진행 막대와 로그, 2: 각 에포크마다 한 줄 출력\n",
    "print(\"모델 학습 시작...\")\n",
    "history = model.fit(X_train, y_train, epochs=500, verbose=0)\n",
    "print(\"모델 학습 완료!\")\n",
    "\n",
    "# 학습 과정에서 손실(loss) 변화를 시각화\n",
    "plt.plot(history.history['loss'])\n",
    "plt.xlabel('Epoch')\n",
    "plt.ylabel('Loss (Mean Squared Error)')\n",
    "plt.title('Training Loss')\n",
    "plt.show()"
   ]
  },
  {
   "cell_type": "code",
   "execution_count": 365,
   "id": "a23f9a1a-5345-477a-8e25-77e318510055",
   "metadata": {},
   "outputs": [
    {
     "name": "stdout",
     "output_type": "stream",
     "text": [
      "WARNING:tensorflow:6 out of the last 11570 calls to <function Model.make_test_function.<locals>.test_function at 0x146f46200> triggered tf.function retracing. Tracing is expensive and the excessive number of tracings could be due to (1) creating @tf.function repeatedly in a loop, (2) passing tensors with different shapes, (3) passing Python objects instead of tensors. For (1), please define your @tf.function outside of the loop. For (2), @tf.function has reduce_retracing=True option that can avoid unnecessary retracing. For (3), please refer to https://www.tensorflow.org/guide/function#controlling_retracing and https://www.tensorflow.org/api_docs/python/tf/function for  more details.\n"
     ]
    },
    {
     "name": "stderr",
     "output_type": "stream",
     "text": [
      "WARNING:tensorflow:6 out of the last 11570 calls to <function Model.make_test_function.<locals>.test_function at 0x146f46200> triggered tf.function retracing. Tracing is expensive and the excessive number of tracings could be due to (1) creating @tf.function repeatedly in a loop, (2) passing tensors with different shapes, (3) passing Python objects instead of tensors. For (1), please define your @tf.function outside of the loop. For (2), @tf.function has reduce_retracing=True option that can avoid unnecessary retracing. For (3), please refer to https://www.tensorflow.org/guide/function#controlling_retracing and https://www.tensorflow.org/api_docs/python/tf/function for  more details.\n"
     ]
    },
    {
     "name": "stdout",
     "output_type": "stream",
     "text": [
      "1/1 [==============================] - 0s 45ms/step - loss: 0.0185\n",
      "훈련 데이터에 대한 최종 손실: 0.0185\n"
     ]
    }
   ],
   "source": [
    "# 5. 평가 (Evaluate) - 이 예시에서는 훈련 데이터만 사용했으므로, 훈련 데이터에 대한 평가입니다.\n",
    "# 실제로는 별도의 검증/테스트 데이터셋으로 평가합니다.\n",
    "loss = model.evaluate(X_train, y_train, verbose=1)\n",
    "print(f\"훈련 데이터에 대한 최종 손실: {loss:.4f}\")"
   ]
  },
  {
   "cell_type": "code",
   "execution_count": 367,
   "id": "3e2910fe-7d43-4640-aef2-fb36e5222bed",
   "metadata": {},
   "outputs": [
    {
     "name": "stdout",
     "output_type": "stream",
     "text": [
      "1/1 [==============================] - 0s 18ms/step\n",
      "\n",
      "새로운 데이터에 대한 예측:\n",
      "입력 x: 10.00, 예측 y: 20.83\n",
      "입력 x: 15.00, 예측 y: 30.62\n",
      "입력 x: 20.00, 예측 y: 40.41\n",
      "\n",
      "학습된 가중치 (기울기): 1.96\n",
      "학습된 가중치 (절편): 1.25\n"
     ]
    }
   ],
   "source": [
    "# 6. 예측 (Predict)\n",
    "# 새로운 데이터에 대해 예측을 수행합니다.\n",
    "new_X = np.array([10., 15., 20.], dtype=float)\n",
    "predictions = model.predict(new_X)\n",
    "\n",
    "print(\"\\n새로운 데이터에 대한 예측:\")\n",
    "for x, y_pred in zip(new_X, predictions):\n",
    "    print(f\"입력 x: {x:.2f}, 예측 y: {y_pred[0]:.2f}\")\n",
    "\n",
    "# 위와 동일한 기능\n",
    "# for i in range(len(nxs)):\n",
    "#     print(f\"x : {nxs[i]}, y : {predictions[i]}\")\n",
    "    \n",
    "# 학습된 모델의 가중치 확인 (선형 회귀의 경우 기울기와 절편)\n",
    "print(f\"\\n학습된 가중치 (기울기): {model.get_weights()[0][0][0]:.2f}\")\n",
    "print(f\"학습된 가중치 (절편): {model.get_weights()[1][0]:.2f}\")\n",
    "# print(f\"{model.get_weights()[0][0]}\")\n",
    "# print(f\"{model.get_weights()[1][0]}\")"
   ]
  },
  {
   "cell_type": "markdown",
   "id": "a217ba3c-8eda-4be0-82eb-fc950bb196ee",
   "metadata": {},
   "source": [
    "혹시 아래 내용을 개발해줄 수 있는지 확인해줘.\n",
    "1)파이썬으로 테스트 api 개발(GET방식 /test)\n",
    "2)모델이 10초마다 해당 api를 호출해서 response 받기까지 걸린 시간을 '실시간'으로 '학습'\n",
    "3)간단한 화면을 만들어서 현재 모델이 학습된 데이터 구간을 보여주는데 input 박스를 만들어서 범위를 벗어나면(=이상치 감지) '비정상 데이터'라고 알려주는거 "
   ]
  }
 ],
 "metadata": {
  "kernelspec": {
   "display_name": "Python [conda env:homl3]",
   "language": "python",
   "name": "conda-env-homl3-py"
  },
  "language_info": {
   "codemirror_mode": {
    "name": "ipython",
    "version": 3
   },
   "file_extension": ".py",
   "mimetype": "text/x-python",
   "name": "python",
   "nbconvert_exporter": "python",
   "pygments_lexer": "ipython3",
   "version": "3.10.17"
  }
 },
 "nbformat": 4,
 "nbformat_minor": 5
}
